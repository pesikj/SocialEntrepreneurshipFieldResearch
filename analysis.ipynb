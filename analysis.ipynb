{
 "cells": [
  {
   "cell_type": "code",
   "execution_count": 59,
   "metadata": {
    "collapsed": true
   },
   "outputs": [
    {
     "data": {
      "text/plain": "   Pohlaví  Jihomoravský  Jihočeský  Karlovarský  Kraj  Královehradecký  \\\n2        0             0          0            1     0                0   \n3        0             0          0            0     0                0   \n4        0             0          0            0     0                0   \n5        0             0          0            0     0                0   \n6        1             0          0            1     0                0   \n\n   Liberecký  Moravskoslezský  Olomoucký  Pardubický  ...  \\\n2          0                0          0           0  ...   \n3          0                1          0           0  ...   \n4          0                0          0           0  ...   \n5          0                0          0           0  ...   \n6          0                0          0           0  ...   \n\n   5 001 až 20 000 obyvatel  Do 1000 obyvatel  Velikost místa bydliště  \\\n2                         0                 0                        0   \n3                         0                 0                        0   \n4                         0                 1                        0   \n5                         0                 0                        0   \n6                         0                 0                        0   \n\n   Více než 100 000 obyvatel  SŠ  Vyučen/a  Vzdělání  VŠ  ZŠ  Output  \n2                          0   0         1         0   0   0     1.0  \n3                          0   0         0         0   0   1     2.0  \n4                          0   1         0         0   0   0     2.0  \n5                          1   1         0         0   0   0     3.0  \n6                          0   0         1         0   0   0     0.0  \n\n[5 rows x 28 columns]",
      "text/html": "<div>\n<style scoped>\n    .dataframe tbody tr th:only-of-type {\n        vertical-align: middle;\n    }\n\n    .dataframe tbody tr th {\n        vertical-align: top;\n    }\n\n    .dataframe thead th {\n        text-align: right;\n    }\n</style>\n<table border=\"1\" class=\"dataframe\">\n  <thead>\n    <tr style=\"text-align: right;\">\n      <th></th>\n      <th>Pohlaví</th>\n      <th>Jihomoravský</th>\n      <th>Jihočeský</th>\n      <th>Karlovarský</th>\n      <th>Kraj</th>\n      <th>Královehradecký</th>\n      <th>Liberecký</th>\n      <th>Moravskoslezský</th>\n      <th>Olomoucký</th>\n      <th>Pardubický</th>\n      <th>...</th>\n      <th>5 001 až 20 000 obyvatel</th>\n      <th>Do 1000 obyvatel</th>\n      <th>Velikost místa bydliště</th>\n      <th>Více než 100 000 obyvatel</th>\n      <th>SŠ</th>\n      <th>Vyučen/a</th>\n      <th>Vzdělání</th>\n      <th>VŠ</th>\n      <th>ZŠ</th>\n      <th>Output</th>\n    </tr>\n  </thead>\n  <tbody>\n    <tr>\n      <th>2</th>\n      <td>0</td>\n      <td>0</td>\n      <td>0</td>\n      <td>1</td>\n      <td>0</td>\n      <td>0</td>\n      <td>0</td>\n      <td>0</td>\n      <td>0</td>\n      <td>0</td>\n      <td>...</td>\n      <td>0</td>\n      <td>0</td>\n      <td>0</td>\n      <td>0</td>\n      <td>0</td>\n      <td>1</td>\n      <td>0</td>\n      <td>0</td>\n      <td>0</td>\n      <td>1.0</td>\n    </tr>\n    <tr>\n      <th>3</th>\n      <td>0</td>\n      <td>0</td>\n      <td>0</td>\n      <td>0</td>\n      <td>0</td>\n      <td>0</td>\n      <td>0</td>\n      <td>1</td>\n      <td>0</td>\n      <td>0</td>\n      <td>...</td>\n      <td>0</td>\n      <td>0</td>\n      <td>0</td>\n      <td>0</td>\n      <td>0</td>\n      <td>0</td>\n      <td>0</td>\n      <td>0</td>\n      <td>1</td>\n      <td>2.0</td>\n    </tr>\n    <tr>\n      <th>4</th>\n      <td>0</td>\n      <td>0</td>\n      <td>0</td>\n      <td>0</td>\n      <td>0</td>\n      <td>0</td>\n      <td>0</td>\n      <td>0</td>\n      <td>0</td>\n      <td>0</td>\n      <td>...</td>\n      <td>0</td>\n      <td>1</td>\n      <td>0</td>\n      <td>0</td>\n      <td>1</td>\n      <td>0</td>\n      <td>0</td>\n      <td>0</td>\n      <td>0</td>\n      <td>2.0</td>\n    </tr>\n    <tr>\n      <th>5</th>\n      <td>0</td>\n      <td>0</td>\n      <td>0</td>\n      <td>0</td>\n      <td>0</td>\n      <td>0</td>\n      <td>0</td>\n      <td>0</td>\n      <td>0</td>\n      <td>0</td>\n      <td>...</td>\n      <td>0</td>\n      <td>0</td>\n      <td>0</td>\n      <td>1</td>\n      <td>1</td>\n      <td>0</td>\n      <td>0</td>\n      <td>0</td>\n      <td>0</td>\n      <td>3.0</td>\n    </tr>\n    <tr>\n      <th>6</th>\n      <td>1</td>\n      <td>0</td>\n      <td>0</td>\n      <td>1</td>\n      <td>0</td>\n      <td>0</td>\n      <td>0</td>\n      <td>0</td>\n      <td>0</td>\n      <td>0</td>\n      <td>...</td>\n      <td>0</td>\n      <td>0</td>\n      <td>0</td>\n      <td>0</td>\n      <td>0</td>\n      <td>1</td>\n      <td>0</td>\n      <td>0</td>\n      <td>0</td>\n      <td>0.0</td>\n    </tr>\n  </tbody>\n</table>\n<p>5 rows × 28 columns</p>\n</div>"
     },
     "execution_count": 59,
     "metadata": {},
     "output_type": "execute_result"
    }
   ],
   "source": [
    "import matplotlib.pyplot as plt\n",
    "import pandas\n",
    "import pandas as pd\n",
    "from sklearn.metrics import (\n",
    "    accuracy_score,\n",
    "    ConfusionMatrixDisplay,\n",
    ")\n",
    "from sklearn.model_selection import train_test_split\n",
    "from sklearn.neighbors import KNeighborsClassifier\n",
    "from sklearn.preprocessing import OrdinalEncoder\n",
    "from sklearn.preprocessing import StandardScaler\n",
    "from sklearn import tree\n",
    "\n",
    "df = pd.read_excel(\"Ipsos_Datovy_soubor_18122020.xlsx\", header=None, sheet_name=\"Export 1\")\n",
    "\n",
    "col_headers = []\n",
    "df_cleaned = pandas.DataFrame()\n",
    "\n",
    "\n",
    "def convert_output_value(value):\n",
    "    if \"není důležité\" in str(value):\n",
    "        return -1\n",
    "    if \"je důležité\" in str(value):\n",
    "        return 1\n",
    "    if value == \"Ani tak, ani tak.\":\n",
    "        return 0\n",
    "    print(value)\n",
    "\n",
    "def convert_output_value_know(value):\n",
    "    if value == \"Nikdy jsem o něm neslyšel(a).\":\n",
    "        return 0\n",
    "    if value == \"Pouze jsem o něm slyšel(a), ale nic o něm nevím.\":\n",
    "        return 1\n",
    "    if value == \"Mám o něm pouze základní informace.\":\n",
    "        return 2\n",
    "    if value == \"Znám ho poměrně dobře.\":\n",
    "        return 3\n",
    "    if value == \"Znám ho velmi dobře.\":\n",
    "        return 3\n",
    "\n",
    "OUTPUT_COLUMN = \"Do jaké míry jste obeznámen(a) s pojmem sociální podnikání?\"\n",
    "# \"Do jaké míry považujete sociální podnikání za důležité pro naplňování veřejně prospěšných cílů?\"\n",
    "# \"Do jaké míry jste obeznámen(a) s pojmem sociální podnikání?\"\n",
    "\n",
    "columns = []\n",
    "for col in df:\n",
    "    actual_col_name = \"\"\n",
    "    data_row = []\n",
    "    row_0 = df[col].iloc[0]\n",
    "    row_1 = df[col].iloc[1]\n",
    "    if row_0 == \"Demografické kategorie\" and row_1 == \"Věk\":\n",
    "        actual_col_name = \"Věk\"\n",
    "    elif row_0 == OUTPUT_COLUMN:\n",
    "        actual_col_name = \"Output\"\n",
    "    elif row_1 in (\"Velikost místa bydliště\", \"Kraj\", \"Vzdělání\", \"Pohlaví\"):\n",
    "        actual_col_name = row_1\n",
    "    if actual_col_name != \"\":\n",
    "        col_headers.append(actual_col_name)\n",
    "        col_content = df[col]\n",
    "        if actual_col_name == \"Output\":\n",
    "            df_cleaned[actual_col_name] = col_content.map(convert_output_value_know)\n",
    "        elif actual_col_name in (\"Velikost místa bydliště\", \"Kraj\", \"Vzdělání\"):\n",
    "            one_hot = pd.get_dummies(col_content)\n",
    "            df_cleaned = df_cleaned.join(one_hot)\n",
    "        elif actual_col_name == \"Pohlaví\":\n",
    "            df_cleaned[actual_col_name] = col_content.map(lambda x: int(x == \"Žena\"))\n",
    "\n",
    "df_cleaned = df_cleaned[~df_cleaned[\"Output\"].isna()]\n",
    "# df_cleaned = df_cleaned[df_cleaned[\"Output\"] != 0]\n",
    "df_cleaned_X = df_cleaned.drop(columns=\"Output\")\n",
    "df_cleaned_Y = df_cleaned[\"Output\"]\n",
    "df_cleaned.head()"
   ]
  },
  {
   "cell_type": "markdown",
   "source": [
    "| Odpověď                                            | Klasifikace |\n",
    "|----------------------------------------------------|-------------|\n",
    "| \"Nikdy jsem o něm neslyšel(a).\"                    | 0           |\n",
    "| \"Pouze jsem o něm slyšel(a), ale nic o něm nevím.\" | 1           |\n",
    "| \"Mám o něm pouze základní informace.\"              | 2           |\n",
    "| \"Znám ho poměrně dobře.\"                           | 3           |\n",
    "| \"Znám ho velmi dobře.\"                             | 3           |"
   ],
   "metadata": {
    "collapsed": false
   }
  },
  {
   "cell_type": "code",
   "execution_count": 62,
   "outputs": [
    {
     "data": {
      "text/plain": "<Figure size 432x288 with 1 Axes>",
      "image/png": "[encoded data removed]"
     },
     "metadata": {
      "needs_background": "light"
     },
     "output_type": "display_data"
    }
   ],
   "source": [
    "clf = tree.DecisionTreeClassifier(max_depth=4, criterion=\"log_loss\")\n",
    "clf = clf.fit(df_cleaned_X, df_cleaned_Y)\n",
    "tree.plot_tree(clf)\n",
    "plt.savefig('out.pdf')"
   ],
   "metadata": {
    "collapsed": false
   }
  },
  {
   "cell_type": "code",
   "execution_count": 61,
   "outputs": [],
   "source": [
    "df_columns = list(zip(range(0, len(df_cleaned_X.columns)),  df_cleaned_X.columns))\n",
    "df_columns = pandas.DataFrame(df_columns)\n",
    "df_columns.to_excel(\"columns.xlsx\", index=False)"
   ],
   "metadata": {
    "collapsed": false
   }
  },
  {
   "cell_type": "code",
   "execution_count": null,
   "outputs": [],
   "source": [],
   "metadata": {
    "collapsed": false
   }
  }
 ],
 "metadata": {
  "kernelspec": {
   "display_name": "Python 3",
   "language": "python",
   "name": "python3"
  },
  "language_info": {
   "codemirror_mode": {
    "name": "ipython",
    "version": 2
   },
   "file_extension": ".py",
   "mimetype": "text/x-python",
   "name": "python",
   "nbconvert_exporter": "python",
   "pygments_lexer": "ipython2",
   "version": "2.7.6"
  }
 },
 "nbformat": 4,
 "nbformat_minor": 0
}
